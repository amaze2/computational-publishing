{
 "cells": [
  {
   "cell_type": "markdown",
   "id": "9bbc92fa",
   "metadata": {},
   "source": [
    "# Guide to Computational Publishing\n",
    "### By [Adam Mazel, Digital Publishing Librarian, Indiana University](https://libraries.indiana.edu/adam-mazel)\n",
    "\n",
    "## What is Computational Publishing?\n",
    "\n",
    "Computational publishing (CP) is a recent (2017-present) and often free means of digital text and computer code creation and dissemination that enhances reader interactivity. It enables you to write and publish on the web human-readable text alongside machine-readable computer code **that can also be run, modified, and created by the reader**. Thus, your reader can do more than just read your code or even run your code--in CP, your reader can also modify your code and even write new code alongside your own. Therefore, CP readers can also be CP writers, particularly of programming languages."
   ]
  },
  {
   "cell_type": "markdown",
   "id": "463440a4",
   "metadata": {},
   "source": [
    "### Examples\n",
    "\n",
    "Examples of Computational Publishing include:\n",
    "\n",
    "1. [_Aesthetic Programming_](https://aesthetic-programming.net/pages/1-getting-started.html) by Winnie Soon & Geoff Cox\n",
    "This digital book offers a sidebar to enable reader interactivity: code running, revision, and creation.\n",
    "\n",
    "2. [_Introduction to Colab and Python_](https://colab.research.google.com/github/tensorflow/examples/blob/master/courses/udacity_intro_to_tensorflow_for_deep_learning/l01c01_introduction_to_colab_and_python.ipynb#scrollTo=X9uIpOS2zx7k)\n",
    "This guide is created in [Google Colaboratory](https://colab.research.google.com/) (discussed below) to mix human-readable text with machine-readable Python code that can be run, revised, and created by its reader. These actions can modify the original publication (if those privilges are granted to readers).\n",
    "\n",
    "3. [_Python for Computational Science and Engineering_](https://mybinder.org/v2/gh/fangohr/introduction-to-python-for-computational-science-and-engineering/7e40ec1013ecb078e7fc2aa7d3ec06802c76321a)\n",
    "This book uses the software [Binder](https://mybinder.org/) (discussed below) to enable the mixing human-readable text with machine-readable python code that can be run, revised, and created by its reader. These actions cannot modify the original publication.\n",
    "\n",
    "4. [Journal of Digital History](https://journalofdigitalhistory.org)\n",
    "The JDH also uses Binder to publish data-driven scholarship. \n",
    "\n",
    "4. This guide also uses Binder to exemplify CP:\n",
    "\n",
    "**Reader, run the code cell below by clicking in it and then pressing \"Run\" in the menu above. Then, hange the variable \"a\" to a new number (ex. a = 6), and run the cell again.**"
   ]
  },
  {
   "cell_type": "code",
   "execution_count": 2,
   "id": "c4445ca2",
   "metadata": {},
   "outputs": [
    {
     "name": "stdout",
     "output_type": "stream",
     "text": [
      "5\n"
     ]
    }
   ],
   "source": [
    "a = 10\n",
    "print(a-5)"
   ]
  },
  {
   "cell_type": "markdown",
   "id": "305f8521",
   "metadata": {},
   "source": [
    "Because one's audience can now execute author-written code to see its result, CP can facilitate evaluations of the data science's reproducibility: readers can now test the writer's code. Moreover, because CP allows readers to modify code (for example, by inputing different queries), CP enables readerly exploration and inquiry. And lastly, becuase CP allows readers to write their own code--say in response to a prompt by the writer--CP thus is apt for the creation and completion of educational exercises and activities, particularly in code-based instruction, such as in computer and data science fields. CP therefore is an apt medium for both reproducible research and Open Educational Resources (OER).\n",
    "\n",
    "Google Colaboratory (below) is particularly apt for the creation of assignments and activities because it enables marginal comments. Students can then modify and / or create code and submit it to their teacher, who can then provide feedback. "
   ]
  },
  {
   "cell_type": "markdown",
   "id": "18a42fd0",
   "metadata": {},
   "source": [
    "Computational Publishing can be done with various software. But its software stack is often composed of some combination of:\n",
    "\n",
    "1. [Markdown](https://www.markdownguide.org/) is a markup language for formatting plain text. \n",
    "\n",
    "2. [Jupyter Notebooks](https://jupyter.org/) is a web platform for writing and sharing documents that mix text--in Markdown--with runnable code in over 40 programming languages, including Python and R.\n",
    "\n",
    "3. [GitHub](https://github.com/) is a web-based repository and interface for storing and sharing code and files, such as Jupyter Notebooks.\n",
    "\n",
    "4. [Binder](https://mybinder.org/) enables the writing, running, and sharing via GitHub of Jupyter Notebooks without having to download, install, or run anything--for both authors and readers.\n",
    "\n",
    "5. [Google Colaboratory](https://colab.research.google.com/) enables the writing, running, and sharing via Google Drive of Jupyter Notebooks without having to download, install, or run anything--for both authors and readers.\n",
    "\n",
    "6. [Microsoft Azure Lab Services](https://learn.microsoft.com/en-us/azure/lab-services/class-type-jupyter-notebook) enables the writing, running, and sharing via Microsoft Azure of Jupyter Notebooks without having to download, install, or run anything--for both authors and readers.\n",
    "\n",
    "7. [Docker](https://www.docker.com/) creates the virtual environment that contains / provides all the software and data necessary for the code in the publication to execute so that CP readers can run and write code in computational publications without having to download, install, or run anything. \n",
    "\n",
    "Docker--and Binder, Colab, and Azure--obviate the need for downloads or installs for code to be executable and writable by the reader by providing all of the necessary software and data. For example, if the computational publication employs Python, readers do not need to have Python installed on their computer to read, execute, or modify the code in the publication. "
   ]
  },
  {
   "cell_type": "code",
   "execution_count": null,
   "id": "f83df522",
   "metadata": {},
   "outputs": [],
   "source": []
  }
 ],
 "metadata": {
  "kernelspec": {
   "display_name": "Python 3 (ipykernel)",
   "language": "python",
   "name": "python3"
  },
  "language_info": {
   "codemirror_mode": {
    "name": "ipython",
    "version": 3
   },
   "file_extension": ".py",
   "mimetype": "text/x-python",
   "name": "python",
   "nbconvert_exporter": "python",
   "pygments_lexer": "ipython3",
   "version": "3.9.13"
  }
 },
 "nbformat": 4,
 "nbformat_minor": 5
}
